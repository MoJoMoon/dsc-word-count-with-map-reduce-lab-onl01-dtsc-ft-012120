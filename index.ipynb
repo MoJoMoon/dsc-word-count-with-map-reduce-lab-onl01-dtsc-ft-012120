{
 "cells": [
  {
   "cell_type": "markdown",
   "metadata": {},
   "source": [
    "# Word Count with MapReduce - Lab\n",
    "\n",
    "## Introduction\n",
    "\n",
    "Now that we have seen the key map and reduce operators in Spark, and also know when to use transformation and action operators, we can revisit the word count problem we introduced earlier in the section. In this lab, we will read a text corpus into the Spark environment, perform a word count, and try basic NLP ideas to get a good grip on how MapReduce performs. \n",
    "\n",
    "## Objectives\n",
    "\n",
    "In this lab you will:\n",
    "\n",
    "- Apply the map(func) transformation to a given function on all elements of an RDD in different partitions \n",
    "- Apply a map transformation for all elements of an RDD \n",
    "- Compare the difference between a transformation and an action within RDDs \n",
    "- Use collect(), count(), and take() actions to trigger spark transformations \n",
    "- Use filter to select data that meets certain specifications within an RDD \n",
    "- Use Spark and the MapReduce framework to complete a full parallelized word count problem \n",
    "\n",
    "## MapReduce task\n",
    "\n",
    "Here is what our problem looks like:\n",
    "\n",
    "* We have a huge text document\n",
    "* We need to count the number of times each distinct word appears in the document\n",
    "\n",
    "\n",
    "* Sample applications:\n",
    "\n",
    "    * Analyze web server logs to find popular URLs\n",
    "    * Analyze texts for content or style "
   ]
  },
  {
   "cell_type": "markdown",
   "metadata": {},
   "source": [
    "## Word Count\n",
    "\n",
    "We will illustrate a MapReduce computation for counting the number of occurrences for each word in a text corpus. In this example, the input file is a repository of documents and each document is an element. We shall count the frequency of stop words for __style identification__ as stop words might have unique features which can potentially describe the author's writing style based on their use of stop words while writing. We shall look at some texts by Shakespeare and Jane Austin following this motivation. \n",
    "\n",
    "MapReduce in PySpark provides a practical and efficient way of achieving this goal as it: \n",
    "\n",
    "* works if the file is too large for memory\n",
    "\n",
    "* works even if the output is too large for memory\n",
    "\n",
    "* is naturally parallelizable\n"
   ]
  },
  {
   "cell_type": "markdown",
   "metadata": {},
   "source": [
    "### MapReduce Framework\n",
    "\n",
    "Here are the steps that we will perform for our problem, under the MapReduce framework:  \n",
    "\n",
    "* Sequentially read a lot of data (text files in this case)\n",
    "\n",
    "\n",
    "* Map:\n",
    "    * Extract something you care about\n",
    "\n",
    "\n",
    "* Group by key: Sort and shuffle\n",
    "\n",
    "\n",
    "* Reduce:\n",
    "    * Aggregate, summarize, filter or transform\n",
    "\n",
    "\n",
    "* Write the result \n",
    "\n",
    "As a reminder, here is what it looks like visually, given the example we used before:\n",
    "![](./images/word_count.png)"
   ]
  },
  {
   "cell_type": "markdown",
   "metadata": {},
   "source": [
    "### Initialize SparkContext()\n",
    "\n",
    "- First, import the `pyspark` module into this Python environment and initialize a `SparkContext()` \n",
    "- Initialize a local spark context"
   ]
  },
  {
   "cell_type": "code",
   "execution_count": null,
   "metadata": {},
   "outputs": [],
   "source": [
    "# Start a local SparkContext\n",
    "# import pyspark\n",
    "# sc = pyspark.SparkContext('local[*]')"
   ]
  },
  {
   "cell_type": "markdown",
   "metadata": {},
   "source": [
    "To test our code, start with a single text file, `'hamlet.txt'`. First, set a file path variable `file` to the location of `'text/hamlet.txt'`. "
   ]
  },
  {
   "cell_type": "code",
   "execution_count": 2,
   "metadata": {},
   "outputs": [
    {
     "data": {
      "text/plain": [
       "'text/hamlet.txt'"
      ]
     },
     "execution_count": 2,
     "metadata": {},
     "output_type": "execute_result"
    }
   ],
   "source": [
    "# Set a path variable for data \n",
    "# file = 'text/hamlet.txt'\n",
    "# file\n",
    "\n",
    "\"\"\"\n",
    "'text/hamlet.txt'\n",
    "\"\"\""
   ]
  },
  {
   "cell_type": "markdown",
   "metadata": {},
   "source": [
    "## Read and Split text file contents into RDD - `sc.textFile()`\n",
    "\n",
    "Previously we used parallelization to read an RDD from a Python list. Here we shall read the text file into Spark RDDs by using `sc.textFile()` method for loading the text file into the `lines` RDD. The documentation on RDDs can be found [here!!](https://spark.apache.org/docs/latest/rdd-programming-guide.html)\n",
    "\n",
    "The `textFile(path)` method reads a text file from the HDFS/local file system/any Hadoop supported file system, into the number of partitions specified and returns it as an RDD of strings. In order to view the contents of the RDD, we will use the `RDD.collect()` method since calling the RDD by name will not return the contents, only the object type and relevant information. "
   ]
  },
  {
   "cell_type": "code",
   "execution_count": 4,
   "metadata": {},
   "outputs": [
    {
     "data": {
      "text/plain": [
       "text/hamlet.txt MapPartitionsRDD[1] at textFile at NativeMethodAccessorImpl.java:0"
      ]
     },
     "execution_count": 4,
     "metadata": {},
     "output_type": "execute_result"
    }
   ],
   "source": [
    "# Read the text file into an RDD using sc.textFile()\n",
    "# lines = sc.textFile(file)\n",
    "# lines\n",
    "\"\"\"\n",
    "text/hamlet.txt MapPartitionsRDD[41] at textFile at NativeMethodAccessorImpl.java:0\n",
    "\"\"\""
   ]
  },
  {
   "cell_type": "markdown",
   "metadata": {},
   "source": [
    "The text file has been written in a \"line-by-line\" manner into the RDD. We can access any given entry using simple indexing. \n",
    "\n",
    "- Print a few sample lines from the `lines` RDD"
   ]
  },
  {
   "cell_type": "code",
   "execution_count": 6,
   "metadata": {},
   "outputs": [
    {
     "name": "stdout",
     "output_type": "stream",
     "text": [
      "    But even then the morning cock crew loud,\n",
      "  Ham. Indeed, upon my sword, indeed.\n"
     ]
    }
   ],
   "source": [
    "# Code here \n",
    "# print(lines.top(5)[4])\n",
    "# print(lines.count())\n",
    "\n",
    "\"\"\"\n",
    "THE END\n",
    "4463\n",
    "\"\"\""
   ]
  },
  {
   "cell_type": "markdown",
   "metadata": {},
   "source": [
    "Similarly, we can also print the whole document, lines by line. \n",
    "\n",
    "- Print complete Hamlet from the lines RDD"
   ]
  },
  {
   "cell_type": "code",
   "execution_count": null,
   "metadata": {
    "scrolled": true
   },
   "outputs": [],
   "source": [
    "# Print the text, line-by-line\n",
    "# This will output the whole of hamlet text, one line at a time. \n",
    "\"\"\"\n",
    "for line in lines.collect():\n",
    "    print(line)\n",
    "\"\"\""
   ]
  },
  {
   "cell_type": "markdown",
   "metadata": {},
   "source": [
    "Great, now that the complete text file is in a `lines` RDD, we can easily use the map function to break it down further into individual words and parallelize it accordingly. \n",
    "\n",
    "__Note: Parallelization is handled by the Spark environment according to available infrastructure and doesn't need any further configuration__.\n",
    "\n",
    "## The MAP function `map(func)`\n",
    "\n",
    "The Map function for this example uses keys that are of type string (the words) and values that are integers. The Map task reads a document and breaks it into its sequence of words `w1, w2, . . . , wn`. It then makes a sequence of key-value pairs for each word where the word itself is the key and the value is always 1. That is, the output of the Map task for this document is the sequence of key-value pairs as shown below:\n",
    "\n",
    "> `(w1, 1), (w2, 1), . . . ,(wn, 1)`\n",
    "\n",
    "This step performs the following two sub-steps:\n",
    "\n",
    "* A splitting step that takes the input dataset from the source and divides it into smaller subsets \n",
    "* A mapping step that takes those smaller subsets and performs an action or computation on each subset \n",
    "\n",
    "\n",
    "### Spark Mapping functions\n",
    "\n",
    "Previously, we saw that:\n",
    "\n",
    "- `map(func)` returns a new distributed dataset formed by passing each element of the source through a function `func`.\n",
    "\n",
    "- `flatMap(func)` maps each input item to 0 or more output items (so `func` should return a seq rather than a single item).\n",
    "\n",
    "`flatMap()` breaks the output of a lambda function into individual RDD elements (as opposed to map).\n",
    "\n",
    "---\n",
    "\n",
    "* Use `RDD.flatMap()` to split the lines by whitespace and collect into one flat RDD.\n",
    "\n",
    "* The transformation is defined in the lambda expression, where the input `x` is defined as producing the result of `x.split(' ')`.\n",
    "\n",
    "* Use the `RDD.take(n)` method to pick `n` words from the top of the sequence. \n",
    "\n",
    "* Use `flatMap()` to break the output of the lambda function into individual RDD elements. \n"
   ]
  },
  {
   "cell_type": "code",
   "execution_count": 9,
   "metadata": {},
   "outputs": [
    {
     "data": {
      "text/plain": [
       "['', '1604', '', '', 'THE', 'TRAGEDY', 'OF', 'HAMLET,', 'PRINCE', 'OF']"
      ]
     },
     "execution_count": 9,
     "metadata": {},
     "output_type": "execute_result"
    }
   ],
   "source": [
    "# split the lines into words based on blanks ' ' and show ten elements from the top \n",
    "\n",
    "# words = lines.flatMap(lambda x: x.split(' '))\n",
    "# words.take(10)\n",
    "\n",
    "\"\"\"\n",
    "['', '1604', '', '', 'THE', 'TRAGEDY', 'OF', 'HAMLET,', 'PRINCE', 'OF']\n",
    "\"\"\"\n",
    "\n",
    "\n",
    "# ['', '1604', '', '', 'THE', 'TRAGEDY', 'OF', 'HAMLET,', 'PRINCE', 'OF']"
   ]
  },
  {
   "cell_type": "markdown",
   "metadata": {},
   "source": [
    "\n",
    "### Create a Tuple as (k,v)\n",
    "\n",
    "- Map each word to a tuple of (word, 1).\n",
    "\n",
    "Map doesn't break up the output of the lambda expression, meaning that the tuples stay intact."
   ]
  },
  {
   "cell_type": "code",
   "execution_count": 11,
   "metadata": {},
   "outputs": [
    {
     "data": {
      "text/plain": [
       "[('', 1),\n",
       " ('1604', 1),\n",
       " ('', 1),\n",
       " ('', 1),\n",
       " ('THE', 1),\n",
       " ('TRAGEDY', 1),\n",
       " ('OF', 1),\n",
       " ('HAMLET,', 1),\n",
       " ('PRINCE', 1),\n",
       " ('OF', 1)]"
      ]
     },
     "execution_count": 11,
     "metadata": {},
     "output_type": "execute_result"
    }
   ],
   "source": [
    "# Use a lambda function with map to add a 1 to each word and output a tuple\n",
    "# (word, 1) - Take ten elements\n",
    "\n",
    "# tuples = words.map(lambda x: (x, 1))\n",
    "#tuples.take(10)\n",
    "\n",
    "\"\"\"\n",
    "[('', 1),\n",
    " ('1604', 1),\n",
    " ('', 1),\n",
    " ('', 1),\n",
    " ('THE', 1),\n",
    " ('TRAGEDY', 1),\n",
    " ('OF', 1),\n",
    " ('HAMLET,', 1),\n",
    " ('PRINCE', 1),\n",
    " ('OF', 1)]\n",
    "\"\"\"\n",
    "\n",
    "# Code here "
   ]
  },
  {
   "cell_type": "markdown",
   "metadata": {},
   "source": [
    "### Change the words to lower case to ensure integrity\n",
    "\n",
    "As we can see from the output above, the text contains words in capital as well as lower case. By default, 'THE' and 'the' would be considered two separate words due to case sensitivity. \n",
    "\n",
    "- Modify the map function above to change all the words to lowercase using a `.lower()` inside the lambda function.\n"
   ]
  },
  {
   "cell_type": "code",
   "execution_count": 13,
   "metadata": {},
   "outputs": [
    {
     "data": {
      "text/plain": [
       "[('', 1),\n",
       " ('1604', 1),\n",
       " ('', 1),\n",
       " ('', 1),\n",
       " ('the', 1),\n",
       " ('tragedy', 1),\n",
       " ('of', 1),\n",
       " ('hamlet,', 1),\n",
       " ('prince', 1),\n",
       " ('of', 1)]"
      ]
     },
     "execution_count": 13,
     "metadata": {},
     "output_type": "execute_result"
    }
   ],
   "source": [
    "# Change the words in words tuples to lowercase - take 10 elements \n",
    "\n",
    "# tuplesLCase = words.map(lambda x: (x.lower(), 1))\n",
    "# tuplesLCase.take(10)\n",
    "\n",
    "\"\"\"\n",
    "[('', 1),\n",
    " ('1604', 1),\n",
    " ('', 1),\n",
    " ('', 1),\n",
    " ('the', 1),\n",
    " ('tragedy', 1),\n",
    " ('of', 1),\n",
    " ('hamlet,', 1),\n",
    " ('prince', 1),\n",
    " ('of', 1)]\n",
    "\"\"\"\n",
    "\n",
    "# Code here "
   ]
  },
  {
   "cell_type": "markdown",
   "metadata": {},
   "source": [
    "## REDUCE Function\n",
    "The Reduce function’s argument is a pair consisting of a key and its list of associated values as the pairs created above. The output of the Reduce function is a sequence of zero or more key-value pairs. These key-value pairs can be of a type different from those sent from Map tasks to Reduce tasks, but often they are the same type.\n",
    "\n",
    "We will refer to the application of the Reduce function to a single key and its associated list of values as a reducer.\n",
    "\n",
    "![](reduce.png)\n",
    "\n",
    "- Use `RDD.reduceByKey()` to add up all the words. the new (k, v) pairs would have the word as a key and the number of occurrences as a value. \n",
    "\n",
    "Here, the lambda has two arguments (x and y) that are added."
   ]
  },
  {
   "cell_type": "code",
   "execution_count": 15,
   "metadata": {},
   "outputs": [
    {
     "data": {
      "text/plain": [
       "[('', 20383),\n",
       " ('1604', 1),\n",
       " ('tragedy', 1),\n",
       " ('of', 670),\n",
       " ('prince', 2),\n",
       " ('denmark', 10),\n",
       " ('shakespeare', 1),\n",
       " ('dramatis', 1),\n",
       " ('claudius,', 2),\n",
       " ('king', 43)]"
      ]
     },
     "execution_count": 15,
     "metadata": {},
     "output_type": "execute_result"
    }
   ],
   "source": [
    "# Use reduceByKey with tupleLCase to add all values under same keys - take 10\n",
    "\n",
    "# wordCount = tuplesLCase.reduceByKey(lambda x,y: x+y)\n",
    "# wordCount.take(10)\n",
    "\n",
    "\"\"\"\n",
    "[('', 20383),\n",
    " ('1604', 1),\n",
    " ('the', 1083),\n",
    " ('tragedy', 1),\n",
    " ('of', 670),\n",
    " ('hamlet,', 28),\n",
    " ('prince', 2),\n",
    " ('denmark', 10),\n",
    " ('by', 111),\n",
    " ('william', 1)]\n",
    " \"\"\"\n"
   ]
  },
  {
   "cell_type": "markdown",
   "metadata": {},
   "source": [
    "### Filter rare words\n",
    "\n",
    "Following the standard NLP approach, we can add a filtering step to remove all words which appear less than some threshold value, say, with less than 5 occurrences. \n",
    "\n",
    "This can be useful to identify common topics between documents, where very rare words can be misleading. \n",
    "For this step, we can use `RDD.filter(func)` where `func` is a lambda function that filters out any word which appears less than or equal to 5 times. You may also use a separate function to achieve this. \n",
    "\n",
    "- Remove rare words with occurences < 5 using lambda function inside a `.filter()` method "
   ]
  },
  {
   "cell_type": "code",
   "execution_count": 17,
   "metadata": {},
   "outputs": [
    {
     "data": {
      "text/plain": [
       "[('', 20383),\n",
       " ('of', 670),\n",
       " ('denmark', 10),\n",
       " ('king', 43),\n",
       " ('son', 11),\n",
       " ('polonius,', 6),\n",
       " ('horatio,', 15),\n",
       " ('hamlet.', 25),\n",
       " ('courtier.', 7),\n",
       " ('rosencrantz,', 6)]"
      ]
     },
     "execution_count": 17,
     "metadata": {},
     "output_type": "execute_result"
    }
   ],
   "source": [
    "# Remove all rare words with frequency less than 5 - take 10 \n",
    "\n",
    "# freqWords = wordCount.filter(lambda x:  x[1] >= 5 )\n",
    "# freqWords.take(10)\n",
    "\n",
    "\"\"\"\n",
    "[('', 20383),\n",
    " ('the', 1083),\n",
    " ('of', 670),\n",
    " ('hamlet,', 28),\n",
    " ('denmark', 10),\n",
    " ('by', 111),\n",
    " ('king', 43),\n",
    " ('denmark.', 7),\n",
    " ('son', 11),\n",
    " ('to', 727)]\n",
    "\"\"\"\n"
   ]
  },
  {
   "cell_type": "markdown",
   "metadata": {},
   "source": [
    "### List  of stop words\n",
    "\n",
    "Add a filtering step to retain only words included in a list of stop words. \n",
    "\n",
    "Stop words can be useful for recognizing the style of an author. Removing stop words can be useful in recognizing the topic of a document. For stop word removal, we use `RDD.filter(func)` again with a lambda function that uses a list of stop words to extract the key-value pairs for only the words that are present in the stop word list. Use a simple list like the one shown below: \n",
    "\n",
    "> ['', 'the','a','in','of','on','at','for','by','I','you','me'] \n",
    "\n",
    "\n",
    "- Use the stop word list above to count the occurrences of these words in the document\n",
    "- Show the stop word frequency"
   ]
  },
  {
   "cell_type": "code",
   "execution_count": 19,
   "metadata": {},
   "outputs": [
    {
     "data": {
      "text/plain": [
       "[('', 20383),\n",
       " ('of', 670),\n",
       " ('at', 87),\n",
       " ('i', 523),\n",
       " ('in', 420),\n",
       " ('the', 1083),\n",
       " ('by', 111),\n",
       " ('a', 540),\n",
       " ('you', 433),\n",
       " ('for', 231),\n",
       " ('me', 144),\n",
       " ('on', 108)]"
      ]
     },
     "execution_count": 19,
     "metadata": {},
     "output_type": "execute_result"
    }
   ],
   "source": [
    "# show stop word frequency in the output\n",
    "\n",
    "# stopWordList = ['', 'the','a','in','of','on','at','for','by','i','you','me'] \n",
    "# stopWords = freqWords.filter(lambda x:  x[0] in stopWordList) \n",
    "# stopWords.collect()\n",
    "\n",
    "\"\"\"\n",
    "[('', 20383),\n",
    " ('the', 1083),\n",
    " ('of', 670),\n",
    " ('by', 111),\n",
    " ('a', 540),\n",
    " ('at', 87),\n",
    " ('you', 433),\n",
    " ('for', 231),\n",
    " ('i', 523),\n",
    " ('in', 420),\n",
    " ('me', 144),\n",
    " ('on', 108)]\n",
    "\"\"\""
   ]
  },
  {
   "cell_type": "markdown",
   "metadata": {},
   "source": [
    "### List of keep words\n",
    "\n",
    "- Modify the filter operation above to keep all the words found in the text **except** the stop words. "
   ]
  },
  {
   "cell_type": "code",
   "execution_count": 21,
   "metadata": {
    "scrolled": true
   },
   "outputs": [
    {
     "data": {
      "text/plain": [
       "[('and', 939),\n",
       " ('to', 727),\n",
       " ('my', 519),\n",
       " ('ham.', 358),\n",
       " ('that', 343),\n",
       " ('is', 327),\n",
       " ('it', 327),\n",
       " ('his', 302),\n",
       " ('not', 274),\n",
       " ('with', 267)]"
      ]
     },
     "execution_count": 21,
     "metadata": {},
     "output_type": "execute_result"
    }
   ],
   "source": [
    "# Modify above filter to show top ten keep words by frequency\n",
    "\n",
    "# keepWords = freqWords.filter(lambda x:  x[0] not in stopWordList) \n",
    "# keepWords.take(10)\n",
    "\n",
    "# output = keepWords.takeOrdered(10, key=lambda x: -x[1])\n",
    "# output\n",
    "\n",
    "\n",
    "\"\"\"\n",
    "[('and', 939),\n",
    " ('to', 727),\n",
    " ('my', 519),\n",
    " ('ham.', 358),\n",
    " ('that', 343),\n",
    " ('is', 327),\n",
    " ('it', 327),\n",
    " ('his', 302),\n",
    " ('not', 274),\n",
    " ('with', 267)]\n",
    "\"\"\""
   ]
  },
  {
   "cell_type": "markdown",
   "metadata": {},
   "source": [
    "### Putting it all together \n",
    "\n",
    "Combine the above code as a function and pass three works of Shakespeare (`'romeandjuliet.txt'`, `'hamlet.txt'`, `'othello.txt'`). Observe the frequency of stop words. Repeat the same exercise for three works of Jane Austin (`'senseandsensibility.txt'`, `'prideandprejudice.txt'` and `'emma.txt'`). \n",
    "\n",
    "> Can you recognize the writing styles of these authors based on their use of stop words?\n",
    "> What can you do to improve the style recognition ability?"
   ]
  },
  {
   "cell_type": "code",
   "execution_count": 1,
   "metadata": {
    "ExecuteTime": {
     "end_time": "2020-04-23T16:10:52.647926Z",
     "start_time": "2020-04-23T16:10:52.640118Z"
    }
   },
   "outputs": [],
   "source": [
    "# Create a function for word count that takes in a file name and stop wordlist to perform above tasks\n",
    "\"\"\"\n",
    "def wordCount(filename, stopWordlist):\n",
    "    output = sc.textFile(filename)\n",
    "    words1 = lines.flatMap(lambda x: x.split(' '))\n",
    "    words2 = words1.map(lambda x: (x.lower(), 1))\n",
    "    wordCount = words2.reduceByKey(lambda x,y: x+y)\n",
    "    freqWords = wordCount.filter(lambda x:  x[1] >= 5 )\n",
    "    stopWords = freqWords.filter(lambda x:  x[0] in stopWordList) \n",
    "    output = stopWords.collect()\n",
    "    \n",
    "    return output\n",
    "    \n",
    "\"\"\""
   ]
  },
  {
   "cell_type": "code",
   "execution_count": 2,
   "metadata": {
    "ExecuteTime": {
     "end_time": "2020-04-23T16:11:29.174467Z",
     "start_time": "2020-04-23T16:11:29.110021Z"
    },
    "scrolled": true
   },
   "outputs": [
    {
     "ename": "NameError",
     "evalue": "name 'file' is not defined",
     "output_type": "error",
     "traceback": [
      "\u001b[1;31m---------------------------------------------------------------------------\u001b[0m",
      "\u001b[1;31mNameError\u001b[0m                                 Traceback (most recent call last)",
      "\u001b[1;32m<ipython-input-2-1d214482b892>\u001b[0m in \u001b[0;36m<module>\u001b[1;34m\u001b[0m\n\u001b[1;32m----> 1\u001b[1;33m \u001b[0mwordCount\u001b[0m\u001b[1;33m(\u001b[0m\u001b[0mfile\u001b[0m\u001b[1;33m,\u001b[0m \u001b[0mstopWordList\u001b[0m\u001b[1;33m)\u001b[0m\u001b[1;33m\u001b[0m\u001b[1;33m\u001b[0m\u001b[0m\n\u001b[0m",
      "\u001b[1;31mNameError\u001b[0m: name 'file' is not defined"
     ]
    }
   ],
   "source": [
    "# wordCount(file, stopWordList)\n",
    "\n",
    "\"\"\"\n",
    "[('', 20383),\n",
    " ('the', 1083),\n",
    " ('of', 670),\n",
    " ('by', 111),\n",
    " ('a', 540),\n",
    " ('at', 87),\n",
    " ('you', 433),\n",
    " ('for', 231),\n",
    " ('i', 523),\n",
    " ('in', 420),\n",
    " ('me', 144),\n",
    " ('on', 108)]\n",
    "\"\"\""
   ]
  }
 ],
 "metadata": {
  "kernelspec": {
   "display_name": "Python 3",
   "language": "python",
   "name": "python3"
  },
  "language_info": {
   "codemirror_mode": {
    "name": "ipython",
    "version": 3
   },
   "file_extension": ".py",
   "mimetype": "text/x-python",
   "name": "python",
   "nbconvert_exporter": "python",
   "pygments_lexer": "ipython3",
   "version": "3.7.4"
  },
  "toc": {
   "base_numbering": 1,
   "nav_menu": {},
   "number_sections": true,
   "sideBar": true,
   "skip_h1_title": false,
   "title_cell": "Table of Contents",
   "title_sidebar": "Contents",
   "toc_cell": false,
   "toc_position": {},
   "toc_section_display": true,
   "toc_window_display": false
  }
 },
 "nbformat": 4,
 "nbformat_minor": 1
}
